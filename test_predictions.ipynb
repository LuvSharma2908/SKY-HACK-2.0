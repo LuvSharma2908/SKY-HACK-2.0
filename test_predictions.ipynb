{
 "cells": [
  {
   "cell_type": "code",
   "execution_count": 1,
   "id": "fbfaf769-4c25-4532-9de5-908e26792fd3",
   "metadata": {},
   "outputs": [],
   "source": [
    "import pandas as pd"
   ]
  },
  {
   "cell_type": "code",
   "execution_count": 2,
   "id": "0c1911a9-5f10-447d-aeae-db34e21f7c8c",
   "metadata": {},
   "outputs": [],
   "source": [
    "test_data = pd.read_csv(r'C:\\Users\\luv\\Downloads\\testbc7185d.csv')"
   ]
  },
  {
   "cell_type": "code",
   "execution_count": 3,
   "id": "e2326b54-3a90-4358-b0fc-b451cd198966",
   "metadata": {},
   "outputs": [],
   "source": [
    "calls_data = pd.read_csv(r\"C:\\Users\\luv\\Downloads\\cleaned_calls.csv\")\n",
    "reason_data = pd.read_csv(r\"C:\\Users\\luv\\Downloads\\reason18315ff.csv\")\n",
    "sentiment_data = pd.read_csv(r\"C:\\Users\\luv\\Downloads\\sentiment_statisticscc1e57a.csv\")\n",
    "customer_data = pd.read_csv(r\"C:\\Users\\luv\\Downloads\\cleaned_customers.csv\")"
   ]
  },
  {
   "cell_type": "code",
   "execution_count": 5,
   "id": "0655904c-ba22-4cff-bffc-4ecf107d65b1",
   "metadata": {},
   "outputs": [
    {
     "name": "stdout",
     "output_type": "stream",
     "text": [
      "[(4667960400, 'Voluntary  Cancel'), (1122072124, 'Booking'), (6834291559, 'IRROPS'), (2266439882, 'Upgrade'), (1211603231, 'Seating')]\n"
     ]
    }
   ],
   "source": [
    "historical_reasons = reason_data[['call_id', 'primary_call_reason']].set_index('call_id').to_dict()['primary_call_reason']\n",
    "\n",
    "print(list(historical_reasons.items())[:5])"
   ]
  },
  {
   "cell_type": "code",
   "execution_count": 6,
   "id": "3c6d3dcd-9af3-4912-a214-ac80560d2988",
   "metadata": {},
   "outputs": [
    {
     "name": "stdout",
     "output_type": "stream",
     "text": [
      "The most frequent primary call reason is: IRROPS\n"
     ]
    }
   ],
   "source": [
    "# Frequency of each primary call reason\n",
    "call_reason_frequency = reason_data['primary_call_reason'].value_counts().reset_index()\n",
    "call_reason_frequency.columns = ['primary_call_reason', 'frequency']\n",
    "\n",
    "# Most frequent primary call reason\n",
    "most_frequent_reason = call_reason_frequency.iloc[0]['primary_call_reason']\n",
    "\n",
    "# The most frequent reason\n",
    "print(f\"The most frequent primary call reason is: {most_frequent_reason}\")\n"
   ]
  },
  {
   "cell_type": "code",
   "execution_count": 30,
   "id": "de3503e9-82bd-4af0-9572-2673f3e46607",
   "metadata": {},
   "outputs": [
    {
     "name": "stdout",
     "output_type": "stream",
     "text": [
      "Rule 1 predictions count: 0\n",
      "Rule 2 predictions count: 5157\n"
     ]
    }
   ],
   "source": [
    "import random\n",
    "\n",
    "# Create a dictionary of previous call reasons from historical data\n",
    "historical_reasons = reason_data[['call_id', 'primary_call_reason']].set_index('call_id').to_dict()['primary_call_reason']\n",
    "\n",
    "# Calculate the frequency of each primary call reason from reason_data\n",
    "frequency_df = reason_data['primary_call_reason'].value_counts().reset_index()\n",
    "frequency_df.columns = ['primary_call_reason', 'count']\n",
    "\n",
    "# Create a frequency dictionary for the top reasons\n",
    "frequency_dict = dict(zip(frequency_df['primary_call_reason'], frequency_df['count']))\n",
    "top_reasons = frequency_df['primary_call_reason'].head(5).tolist()  # Top 5 reasons\n",
    "\n",
    "\n",
    "# Empty list to store predictions\n",
    "predictions = []\n",
    "rule_1_count = 0\n",
    "rule_2_count = 0\n",
    "\n",
    "# Rule-based prediction loop\n",
    "for call_id in test_data['call_id']:\n",
    "    # Rule 1: If call_id has been seen before, predict the same reason\n",
    "    if call_id in historical_reasons:\n",
    "        predictions.append(historical_reasons[call_id])\n",
    "        rule_1_count += 1\n",
    "    else:\n",
    "        # Rule 2: If call_id not found, predict based on random assignment from top 5 reasons\n",
    "        predictions.append(random.choice(top_reasons))\n",
    "        rule_2_count += 1\n",
    "\n",
    "# Create a DataFrame for the predictions\n",
    "predictions_df = pd.DataFrame({\n",
    "    'call_id': test_data['call_id'],\n",
    "    'primary_call_reason': predictions\n",
    "})\n",
    "\n",
    "# Save predictions to CSV\n",
    "predictions_df.to_csv('test_luv.csv', index=False)\n",
    "\n",
    "# Display counts of rule 1 and rule 2\n",
    "print(f\"Rule 1 predictions count: {rule_1_count}\")\n",
    "print(f\"Rule 2 predictions count: {rule_2_count}\")\n"
   ]
  },
  {
   "cell_type": "code",
   "execution_count": null,
   "id": "14d28814-ed7f-438c-8e44-6569f2997a78",
   "metadata": {},
   "outputs": [],
   "source": []
  }
 ],
 "metadata": {
  "kernelspec": {
   "display_name": "Python 3 (ipykernel)",
   "language": "python",
   "name": "python3"
  },
  "language_info": {
   "codemirror_mode": {
    "name": "ipython",
    "version": 3
   },
   "file_extension": ".py",
   "mimetype": "text/x-python",
   "name": "python",
   "nbconvert_exporter": "python",
   "pygments_lexer": "ipython3",
   "version": "3.12.1"
  }
 },
 "nbformat": 4,
 "nbformat_minor": 5
}
